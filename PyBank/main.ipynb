{
 "cells": [
  {
   "cell_type": "code",
   "execution_count": 11,
   "id": "b3006c63",
   "metadata": {},
   "outputs": [],
   "source": [
    "# import modules\n",
    "\n",
    "import csv\n",
    "from pathlib import Path\n",
    "import pandas as pd"
   ]
  },
  {
   "cell_type": "code",
   "execution_count": 3,
   "id": "197c8916",
   "metadata": {},
   "outputs": [],
   "source": [
    "# Set path to appropriate data file\n",
    "\n",
    "csvPath = Path(\"budget_data.csv\")"
   ]
  },
  {
   "cell_type": "code",
   "execution_count": 4,
   "id": "6496dd20",
   "metadata": {},
   "outputs": [],
   "source": [
    "# Set reader to file\n",
    "\n",
    "with open(csvPath, \"r\") as file:\n",
    "    csvFile = csv.reader(file, delimiter = \",\")\n",
    "    \n",
    "    headers = next(csvFile)\n",
    "    \n",
    "    PnL_data = []\n",
    "    for x in csvFile:\n",
    "        PnL_data.append(x[1])"
   ]
  },
  {
   "cell_type": "code",
   "execution_count": 5,
   "id": "2261ef21",
   "metadata": {},
   "outputs": [],
   "source": [
    "# Convert str to an int\n",
    "\n",
    "for i in range(len(PnL_data)):\n",
    "    PnL_data[i] = int(PnL_data[i])"
   ]
  },
  {
   "cell_type": "code",
   "execution_count": 6,
   "id": "f19cd00c",
   "metadata": {},
   "outputs": [
    {
     "name": "stdout",
     "output_type": "stream",
     "text": [
      "[867884, 984655, 322013, -69417, 310503, 522857, 1033096, 604885, -216386, 477532, 893810, -80353, 779806, -335203, 697845, 793163, 485070, 584122, 62729, 668179, 899906, 834719, 132003, 309978, -755566, 1170593, 252788, 1151518, 817256, 570757, 506702, -1022534, 475062, 779976, 144175, 542494, 359333, 321469, 67780, 471435, 565603, 872480, 789480, 999942, -1196225, 268997, -687986, 1150461, 682458, 617856, 824098, 581943, 132864, 448062, 689161, 800701, 1166643, 947333, 578668, 988505, 1139715, 1029471, 687533, -524626, 158620, 87795, 423389, 840723, 568529, 332067, 989499, 778237, 650000, -1100387, -174946, 757143, 445709, 712961, -1163797, 569899, 768450, 102685, 795914, 60988, 138230, 671099]\n"
     ]
    }
   ],
   "source": [
    "# Look at int converted data\n",
    "\n",
    "print(PnL_data)"
   ]
  },
  {
   "cell_type": "code",
   "execution_count": 9,
   "id": "b5e7beaf",
   "metadata": {},
   "outputs": [],
   "source": [
    "# Find total number of months\n",
    "\n",
    "Total_Months = len(PnL_data)"
   ]
  },
  {
   "cell_type": "code",
   "execution_count": 10,
   "id": "5c1cb24b",
   "metadata": {},
   "outputs": [],
   "source": [
    "# Find total sum of Profit and Losses\n",
    "\n",
    "Total_PnL = sum(PnL_data)"
   ]
  },
  {
   "cell_type": "code",
   "execution_count": 13,
   "id": "688510b8",
   "metadata": {},
   "outputs": [],
   "source": [
    "# Use reader in CSV for dataframe\n",
    "\n",
    "PnL_Change_Data = pd.read_csv(csvPath)"
   ]
  },
  {
   "cell_type": "code",
   "execution_count": 15,
   "id": "0d7c727a",
   "metadata": {},
   "outputs": [],
   "source": [
    "# Create new list which finds change in profit/losses\n",
    "\n",
    "PnL_Change_Data[\"PnL_Change\"] = PnL_Change_Data[\"Profit/Losses\"]-PnL_Change_Data[\"Profit/Losses\"].shift()"
   ]
  },
  {
   "cell_type": "code",
   "execution_count": 17,
   "id": "07060f85",
   "metadata": {},
   "outputs": [
    {
     "data": {
      "text/html": [
       "<div>\n",
       "<style scoped>\n",
       "    .dataframe tbody tr th:only-of-type {\n",
       "        vertical-align: middle;\n",
       "    }\n",
       "\n",
       "    .dataframe tbody tr th {\n",
       "        vertical-align: top;\n",
       "    }\n",
       "\n",
       "    .dataframe thead th {\n",
       "        text-align: right;\n",
       "    }\n",
       "</style>\n",
       "<table border=\"1\" class=\"dataframe\">\n",
       "  <thead>\n",
       "    <tr style=\"text-align: right;\">\n",
       "      <th></th>\n",
       "      <th>Date</th>\n",
       "      <th>Profit/Losses</th>\n",
       "      <th>PnL_Change</th>\n",
       "    </tr>\n",
       "  </thead>\n",
       "  <tbody>\n",
       "    <tr>\n",
       "      <th>0</th>\n",
       "      <td>Jan-2010</td>\n",
       "      <td>867884</td>\n",
       "      <td>NaN</td>\n",
       "    </tr>\n",
       "    <tr>\n",
       "      <th>1</th>\n",
       "      <td>Feb-2010</td>\n",
       "      <td>984655</td>\n",
       "      <td>116771.0</td>\n",
       "    </tr>\n",
       "    <tr>\n",
       "      <th>2</th>\n",
       "      <td>Mar-2010</td>\n",
       "      <td>322013</td>\n",
       "      <td>-662642.0</td>\n",
       "    </tr>\n",
       "    <tr>\n",
       "      <th>3</th>\n",
       "      <td>Apr-2010</td>\n",
       "      <td>-69417</td>\n",
       "      <td>-391430.0</td>\n",
       "    </tr>\n",
       "    <tr>\n",
       "      <th>4</th>\n",
       "      <td>May-2010</td>\n",
       "      <td>310503</td>\n",
       "      <td>379920.0</td>\n",
       "    </tr>\n",
       "    <tr>\n",
       "      <th>...</th>\n",
       "      <td>...</td>\n",
       "      <td>...</td>\n",
       "      <td>...</td>\n",
       "    </tr>\n",
       "    <tr>\n",
       "      <th>81</th>\n",
       "      <td>Oct-2016</td>\n",
       "      <td>102685</td>\n",
       "      <td>-665765.0</td>\n",
       "    </tr>\n",
       "    <tr>\n",
       "      <th>82</th>\n",
       "      <td>Nov-2016</td>\n",
       "      <td>795914</td>\n",
       "      <td>693229.0</td>\n",
       "    </tr>\n",
       "    <tr>\n",
       "      <th>83</th>\n",
       "      <td>Dec-2016</td>\n",
       "      <td>60988</td>\n",
       "      <td>-734926.0</td>\n",
       "    </tr>\n",
       "    <tr>\n",
       "      <th>84</th>\n",
       "      <td>Jan-2017</td>\n",
       "      <td>138230</td>\n",
       "      <td>77242.0</td>\n",
       "    </tr>\n",
       "    <tr>\n",
       "      <th>85</th>\n",
       "      <td>Feb-2017</td>\n",
       "      <td>671099</td>\n",
       "      <td>532869.0</td>\n",
       "    </tr>\n",
       "  </tbody>\n",
       "</table>\n",
       "<p>86 rows × 3 columns</p>\n",
       "</div>"
      ],
      "text/plain": [
       "        Date  Profit/Losses  PnL_Change\n",
       "0   Jan-2010         867884         NaN\n",
       "1   Feb-2010         984655    116771.0\n",
       "2   Mar-2010         322013   -662642.0\n",
       "3   Apr-2010         -69417   -391430.0\n",
       "4   May-2010         310503    379920.0\n",
       "..       ...            ...         ...\n",
       "81  Oct-2016         102685   -665765.0\n",
       "82  Nov-2016         795914    693229.0\n",
       "83  Dec-2016          60988   -734926.0\n",
       "84  Jan-2017         138230     77242.0\n",
       "85  Feb-2017         671099    532869.0\n",
       "\n",
       "[86 rows x 3 columns]"
      ]
     },
     "execution_count": 17,
     "metadata": {},
     "output_type": "execute_result"
    }
   ],
   "source": [
    "# Show new header and data in list\n",
    "\n",
    "PnL_Change_Data"
   ]
  },
  {
   "cell_type": "code",
   "execution_count": 18,
   "id": "97ec2f0c",
   "metadata": {},
   "outputs": [],
   "source": [
    "# Find average change in Profit/Losses\n",
    "\n",
    "Average_Change_in_PnL = PnL_Change_Data[\"PnL_Change\"].mean()"
   ]
  },
  {
   "cell_type": "code",
   "execution_count": 37,
   "id": "e8666dc1",
   "metadata": {},
   "outputs": [],
   "source": [
    "# Find max change in Profit/Losses\n",
    "\n",
    "Max_Change_in_PnL = PnL_Change_Data[\"PnL_Change\"].max()"
   ]
  },
  {
   "cell_type": "code",
   "execution_count": 20,
   "id": "72ae6f89",
   "metadata": {},
   "outputs": [],
   "source": [
    "# Find min change in Profit/Losses\n",
    "\n",
    "Min_Change_in_PnL = PnL_Change_Data[\"PnL_Change\"].min()"
   ]
  },
  {
   "cell_type": "code",
   "execution_count": 32,
   "id": "45a24751",
   "metadata": {},
   "outputs": [
    {
     "name": "stdout",
     "output_type": "stream",
     "text": [
      "Total Months: 86\n",
      "Total Profit: 38382578\n",
      "Average Change in PnL: -2315.1176470588234\n",
      "Biggest Change in PnL: 1926159.0\n",
      "Smallest Change in PnL: -2196167.0\n"
     ]
    }
   ],
   "source": [
    "# Final Solutions\n",
    "\n",
    "print(\"Total Months: \" + str(Total_Months))\n",
    "print(\"Total Profit: \" + str(Total_PnL))\n",
    "print(\"Average Change in PnL: \" + str(Average_Change_in_PnL))\n",
    "print(\"Biggest Change in PnL: \" + str(Max_Change_in_PnL))\n",
    "print(\"Smallest Change in PnL: \" + str(Min_Change_in_PnL))"
   ]
  },
  {
   "cell_type": "code",
   "execution_count": null,
   "id": "049fa540",
   "metadata": {},
   "outputs": [],
   "source": []
  }
 ],
 "metadata": {
  "kernelspec": {
   "display_name": "Python 3 (ipykernel)",
   "language": "python",
   "name": "python3"
  },
  "language_info": {
   "codemirror_mode": {
    "name": "ipython",
    "version": 3
   },
   "file_extension": ".py",
   "mimetype": "text/x-python",
   "name": "python",
   "nbconvert_exporter": "python",
   "pygments_lexer": "ipython3",
   "version": "3.9.12"
  }
 },
 "nbformat": 4,
 "nbformat_minor": 5
}
